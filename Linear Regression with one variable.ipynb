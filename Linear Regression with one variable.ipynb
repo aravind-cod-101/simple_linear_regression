{
 "cells": [
  {
   "cell_type": "code",
   "execution_count": 1,
   "id": "a0d77db0",
   "metadata": {},
   "outputs": [],
   "source": [
    "import pandas as pd\n",
    "import numpy as np\n",
    "import matplotlib.pyplot as plt"
   ]
  },
  {
   "cell_type": "code",
   "execution_count": 4,
   "id": "924c1b49",
   "metadata": {},
   "outputs": [],
   "source": [
    "%matplotlib inline"
   ]
  },
  {
   "cell_type": "code",
   "execution_count": 5,
   "id": "a0ed6307",
   "metadata": {},
   "outputs": [
    {
     "data": {
      "text/html": [
       "<div>\n",
       "<style scoped>\n",
       "    .dataframe tbody tr th:only-of-type {\n",
       "        vertical-align: middle;\n",
       "    }\n",
       "\n",
       "    .dataframe tbody tr th {\n",
       "        vertical-align: top;\n",
       "    }\n",
       "\n",
       "    .dataframe thead th {\n",
       "        text-align: right;\n",
       "    }\n",
       "</style>\n",
       "<table border=\"1\" class=\"dataframe\">\n",
       "  <thead>\n",
       "    <tr style=\"text-align: right;\">\n",
       "      <th></th>\n",
       "      <th>YearsExperience</th>\n",
       "      <th>Salary</th>\n",
       "    </tr>\n",
       "  </thead>\n",
       "  <tbody>\n",
       "    <tr>\n",
       "      <th>0</th>\n",
       "      <td>1.1</td>\n",
       "      <td>39343.0</td>\n",
       "    </tr>\n",
       "    <tr>\n",
       "      <th>1</th>\n",
       "      <td>1.3</td>\n",
       "      <td>46205.0</td>\n",
       "    </tr>\n",
       "    <tr>\n",
       "      <th>2</th>\n",
       "      <td>1.5</td>\n",
       "      <td>37731.0</td>\n",
       "    </tr>\n",
       "    <tr>\n",
       "      <th>3</th>\n",
       "      <td>2.0</td>\n",
       "      <td>43525.0</td>\n",
       "    </tr>\n",
       "    <tr>\n",
       "      <th>4</th>\n",
       "      <td>2.2</td>\n",
       "      <td>39891.0</td>\n",
       "    </tr>\n",
       "    <tr>\n",
       "      <th>5</th>\n",
       "      <td>2.9</td>\n",
       "      <td>56642.0</td>\n",
       "    </tr>\n",
       "    <tr>\n",
       "      <th>6</th>\n",
       "      <td>3.0</td>\n",
       "      <td>60150.0</td>\n",
       "    </tr>\n",
       "    <tr>\n",
       "      <th>7</th>\n",
       "      <td>3.2</td>\n",
       "      <td>54445.0</td>\n",
       "    </tr>\n",
       "    <tr>\n",
       "      <th>8</th>\n",
       "      <td>3.2</td>\n",
       "      <td>64445.0</td>\n",
       "    </tr>\n",
       "    <tr>\n",
       "      <th>9</th>\n",
       "      <td>3.7</td>\n",
       "      <td>57189.0</td>\n",
       "    </tr>\n",
       "    <tr>\n",
       "      <th>10</th>\n",
       "      <td>3.9</td>\n",
       "      <td>63218.0</td>\n",
       "    </tr>\n",
       "    <tr>\n",
       "      <th>11</th>\n",
       "      <td>4.0</td>\n",
       "      <td>55794.0</td>\n",
       "    </tr>\n",
       "    <tr>\n",
       "      <th>12</th>\n",
       "      <td>4.0</td>\n",
       "      <td>56957.0</td>\n",
       "    </tr>\n",
       "    <tr>\n",
       "      <th>13</th>\n",
       "      <td>4.1</td>\n",
       "      <td>57081.0</td>\n",
       "    </tr>\n",
       "    <tr>\n",
       "      <th>14</th>\n",
       "      <td>4.5</td>\n",
       "      <td>61111.0</td>\n",
       "    </tr>\n",
       "    <tr>\n",
       "      <th>15</th>\n",
       "      <td>4.9</td>\n",
       "      <td>67938.0</td>\n",
       "    </tr>\n",
       "    <tr>\n",
       "      <th>16</th>\n",
       "      <td>5.1</td>\n",
       "      <td>66029.0</td>\n",
       "    </tr>\n",
       "    <tr>\n",
       "      <th>17</th>\n",
       "      <td>5.3</td>\n",
       "      <td>83088.0</td>\n",
       "    </tr>\n",
       "    <tr>\n",
       "      <th>18</th>\n",
       "      <td>5.9</td>\n",
       "      <td>81363.0</td>\n",
       "    </tr>\n",
       "    <tr>\n",
       "      <th>19</th>\n",
       "      <td>6.0</td>\n",
       "      <td>93940.0</td>\n",
       "    </tr>\n",
       "    <tr>\n",
       "      <th>20</th>\n",
       "      <td>6.8</td>\n",
       "      <td>91738.0</td>\n",
       "    </tr>\n",
       "    <tr>\n",
       "      <th>21</th>\n",
       "      <td>7.1</td>\n",
       "      <td>98273.0</td>\n",
       "    </tr>\n",
       "    <tr>\n",
       "      <th>22</th>\n",
       "      <td>7.9</td>\n",
       "      <td>101302.0</td>\n",
       "    </tr>\n",
       "    <tr>\n",
       "      <th>23</th>\n",
       "      <td>8.2</td>\n",
       "      <td>113812.0</td>\n",
       "    </tr>\n",
       "    <tr>\n",
       "      <th>24</th>\n",
       "      <td>8.7</td>\n",
       "      <td>109431.0</td>\n",
       "    </tr>\n",
       "    <tr>\n",
       "      <th>25</th>\n",
       "      <td>9.0</td>\n",
       "      <td>105582.0</td>\n",
       "    </tr>\n",
       "    <tr>\n",
       "      <th>26</th>\n",
       "      <td>9.5</td>\n",
       "      <td>116969.0</td>\n",
       "    </tr>\n",
       "    <tr>\n",
       "      <th>27</th>\n",
       "      <td>9.6</td>\n",
       "      <td>112635.0</td>\n",
       "    </tr>\n",
       "    <tr>\n",
       "      <th>28</th>\n",
       "      <td>10.3</td>\n",
       "      <td>122391.0</td>\n",
       "    </tr>\n",
       "    <tr>\n",
       "      <th>29</th>\n",
       "      <td>10.5</td>\n",
       "      <td>121872.0</td>\n",
       "    </tr>\n",
       "  </tbody>\n",
       "</table>\n",
       "</div>"
      ],
      "text/plain": [
       "    YearsExperience    Salary\n",
       "0               1.1   39343.0\n",
       "1               1.3   46205.0\n",
       "2               1.5   37731.0\n",
       "3               2.0   43525.0\n",
       "4               2.2   39891.0\n",
       "5               2.9   56642.0\n",
       "6               3.0   60150.0\n",
       "7               3.2   54445.0\n",
       "8               3.2   64445.0\n",
       "9               3.7   57189.0\n",
       "10              3.9   63218.0\n",
       "11              4.0   55794.0\n",
       "12              4.0   56957.0\n",
       "13              4.1   57081.0\n",
       "14              4.5   61111.0\n",
       "15              4.9   67938.0\n",
       "16              5.1   66029.0\n",
       "17              5.3   83088.0\n",
       "18              5.9   81363.0\n",
       "19              6.0   93940.0\n",
       "20              6.8   91738.0\n",
       "21              7.1   98273.0\n",
       "22              7.9  101302.0\n",
       "23              8.2  113812.0\n",
       "24              8.7  109431.0\n",
       "25              9.0  105582.0\n",
       "26              9.5  116969.0\n",
       "27              9.6  112635.0\n",
       "28             10.3  122391.0\n",
       "29             10.5  121872.0"
      ]
     },
     "execution_count": 5,
     "metadata": {},
     "output_type": "execute_result"
    }
   ],
   "source": [
    "sales_df = pd.read_csv('./Salary_Data.csv')\n",
    "sales_df"
   ]
  },
  {
   "cell_type": "code",
   "execution_count": 6,
   "id": "d5fd3498",
   "metadata": {},
   "outputs": [
    {
     "data": {
      "text/html": [
       "<div>\n",
       "<style scoped>\n",
       "    .dataframe tbody tr th:only-of-type {\n",
       "        vertical-align: middle;\n",
       "    }\n",
       "\n",
       "    .dataframe tbody tr th {\n",
       "        vertical-align: top;\n",
       "    }\n",
       "\n",
       "    .dataframe thead th {\n",
       "        text-align: right;\n",
       "    }\n",
       "</style>\n",
       "<table border=\"1\" class=\"dataframe\">\n",
       "  <thead>\n",
       "    <tr style=\"text-align: right;\">\n",
       "      <th></th>\n",
       "      <th>YearsExperience</th>\n",
       "      <th>Salary</th>\n",
       "    </tr>\n",
       "  </thead>\n",
       "  <tbody>\n",
       "    <tr>\n",
       "      <th>count</th>\n",
       "      <td>30.000000</td>\n",
       "      <td>30.000000</td>\n",
       "    </tr>\n",
       "    <tr>\n",
       "      <th>mean</th>\n",
       "      <td>5.313333</td>\n",
       "      <td>76003.000000</td>\n",
       "    </tr>\n",
       "    <tr>\n",
       "      <th>std</th>\n",
       "      <td>2.837888</td>\n",
       "      <td>27414.429785</td>\n",
       "    </tr>\n",
       "    <tr>\n",
       "      <th>min</th>\n",
       "      <td>1.100000</td>\n",
       "      <td>37731.000000</td>\n",
       "    </tr>\n",
       "    <tr>\n",
       "      <th>25%</th>\n",
       "      <td>3.200000</td>\n",
       "      <td>56720.750000</td>\n",
       "    </tr>\n",
       "    <tr>\n",
       "      <th>50%</th>\n",
       "      <td>4.700000</td>\n",
       "      <td>65237.000000</td>\n",
       "    </tr>\n",
       "    <tr>\n",
       "      <th>75%</th>\n",
       "      <td>7.700000</td>\n",
       "      <td>100544.750000</td>\n",
       "    </tr>\n",
       "    <tr>\n",
       "      <th>max</th>\n",
       "      <td>10.500000</td>\n",
       "      <td>122391.000000</td>\n",
       "    </tr>\n",
       "  </tbody>\n",
       "</table>\n",
       "</div>"
      ],
      "text/plain": [
       "       YearsExperience         Salary\n",
       "count        30.000000      30.000000\n",
       "mean          5.313333   76003.000000\n",
       "std           2.837888   27414.429785\n",
       "min           1.100000   37731.000000\n",
       "25%           3.200000   56720.750000\n",
       "50%           4.700000   65237.000000\n",
       "75%           7.700000  100544.750000\n",
       "max          10.500000  122391.000000"
      ]
     },
     "execution_count": 6,
     "metadata": {},
     "output_type": "execute_result"
    }
   ],
   "source": [
    "sales_df.describe()"
   ]
  },
  {
   "cell_type": "code",
   "execution_count": 7,
   "id": "0f3039ad",
   "metadata": {},
   "outputs": [
    {
     "name": "stdout",
     "output_type": "stream",
     "text": [
      "<class 'pandas.core.frame.DataFrame'>\n",
      "RangeIndex: 30 entries, 0 to 29\n",
      "Data columns (total 2 columns):\n",
      " #   Column           Non-Null Count  Dtype  \n",
      "---  ------           --------------  -----  \n",
      " 0   YearsExperience  30 non-null     float64\n",
      " 1   Salary           30 non-null     float64\n",
      "dtypes: float64(2)\n",
      "memory usage: 608.0 bytes\n"
     ]
    }
   ],
   "source": [
    "sales_df.info()"
   ]
  },
  {
   "cell_type": "code",
   "execution_count": 9,
   "id": "b0829e2e",
   "metadata": {},
   "outputs": [
    {
     "data": {
      "text/plain": [
       "(30, 2)"
      ]
     },
     "execution_count": 9,
     "metadata": {},
     "output_type": "execute_result"
    }
   ],
   "source": [
    "sales_df.shape"
   ]
  },
  {
   "cell_type": "code",
   "execution_count": 28,
   "id": "ef6373ac",
   "metadata": {},
   "outputs": [],
   "source": [
    "X = sales_df['YearsExperience'].values\n",
    "y = sales_df['Salary'].values"
   ]
  },
  {
   "cell_type": "code",
   "execution_count": 29,
   "id": "8648532b",
   "metadata": {},
   "outputs": [
    {
     "data": {
      "text/plain": [
       "((30,), (30,))"
      ]
     },
     "execution_count": 29,
     "metadata": {},
     "output_type": "execute_result"
    }
   ],
   "source": [
    "X.shape,y.shape"
   ]
  },
  {
   "cell_type": "code",
   "execution_count": 30,
   "id": "95ae6735",
   "metadata": {},
   "outputs": [
    {
     "data": {
      "text/plain": [
       "((30, 1), (30, 1))"
      ]
     },
     "execution_count": 30,
     "metadata": {},
     "output_type": "execute_result"
    }
   ],
   "source": [
    "X = X.reshape(-1,1)\n",
    "y = y.reshape(-1,1)\n",
    "X.shape, y.shape"
   ]
  },
  {
   "cell_type": "code",
   "execution_count": 31,
   "id": "09c2940f",
   "metadata": {},
   "outputs": [
    {
     "data": {
      "text/plain": [
       "Text(0, 0.5, 'Salary')"
      ]
     },
     "execution_count": 31,
     "metadata": {},
     "output_type": "execute_result"
    },
    {
     "data": {
      "image/png": "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\n",
      "text/plain": [
       "<Figure size 432x288 with 1 Axes>"
      ]
     },
     "metadata": {
      "needs_background": "light"
     },
     "output_type": "display_data"
    }
   ],
   "source": [
    "plt.scatter(X,y,color='blue')\n",
    "plt.xlabel(\"Years of Experience\")\n",
    "plt.ylabel(\"Salary\")"
   ]
  },
  {
   "cell_type": "code",
   "execution_count": 32,
   "id": "c369e0cd",
   "metadata": {},
   "outputs": [],
   "source": [
    "from sklearn.model_selection import train_test_split\n",
    "X_train,X_test,y_train,y_test = train_test_split(X,y,test_size=0.3,random_state=43)"
   ]
  },
  {
   "cell_type": "code",
   "execution_count": 34,
   "id": "f8220ada",
   "metadata": {},
   "outputs": [
    {
     "data": {
      "text/plain": [
       "array([-8291.75002832])"
      ]
     },
     "execution_count": 34,
     "metadata": {},
     "output_type": "execute_result"
    }
   ],
   "source": [
    "from sklearn.linear_model import LinearRegression\n",
    "lm = LinearRegression()\n",
    "lm.fit(X_train,y_train)\n",
    "\n",
    "y_preds = lm.predict(X_test)"
   ]
  },
  {
   "cell_type": "code",
   "execution_count": 35,
   "id": "541555f8",
   "metadata": {},
   "outputs": [
    {
     "name": "stdout",
     "output_type": "stream",
     "text": [
      "[[9552.95810126]] [25583.78404765]\n"
     ]
    }
   ],
   "source": [
    "coefficient = lm.coef_\n",
    "intercept = lm.intercept_\n",
    "print(coefficient,intercept)"
   ]
  },
  {
   "cell_type": "code",
   "execution_count": 36,
   "id": "d1e2ba96",
   "metadata": {},
   "outputs": [
    {
     "data": {
      "text/plain": [
       "array([[36092.03795904],\n",
       "       [38002.62957929],\n",
       "       [39913.22119954],\n",
       "       [44689.70025017],\n",
       "       [46600.29187042]])"
      ]
     },
     "execution_count": 36,
     "metadata": {},
     "output_type": "execute_result"
    }
   ],
   "source": [
    "lm.predict(X)[0:5]"
   ]
  },
  {
   "cell_type": "code",
   "execution_count": 38,
   "id": "a14fb960",
   "metadata": {},
   "outputs": [
    {
     "data": {
      "text/plain": [
       "array([[1.1],\n",
       "       [1.3],\n",
       "       [1.5],\n",
       "       [2. ],\n",
       "       [2.2]])"
      ]
     },
     "execution_count": 38,
     "metadata": {},
     "output_type": "execute_result"
    }
   ],
   "source": [
    "X[0:5]"
   ]
  },
  {
   "cell_type": "code",
   "execution_count": 41,
   "id": "25a73560",
   "metadata": {},
   "outputs": [
    {
     "data": {
      "text/plain": [
       "array([[63795.61645269]])"
      ]
     },
     "execution_count": 41,
     "metadata": {},
     "output_type": "execute_result"
    }
   ],
   "source": [
    "lm.predict([[4]])"
   ]
  },
  {
   "cell_type": "code",
   "execution_count": 51,
   "id": "281a35eb",
   "metadata": {},
   "outputs": [
    {
     "data": {
      "text/plain": [
       "(5410.535739675198, 0.8992353174313428, 0.8992353174313428)"
      ]
     },
     "execution_count": 51,
     "metadata": {},
     "output_type": "execute_result"
    }
   ],
   "source": [
    "from sklearn.metrics import mean_squared_error\n",
    "from sklearn.metrics import r2_score\n",
    "\n",
    "mse = mean_squared_error(y_test,y_preds)\n",
    "rmse = np.sqrt(mse)\n",
    "r2 = r2_score(y_test,y_preds)\n",
    "\n",
    "\n",
    "rmse,r2,lm.score(X_test,y_test)"
   ]
  },
  {
   "cell_type": "markdown",
   "id": "5b57800c",
   "metadata": {},
   "source": [
    "Based on the RMSE value we come to a conclusion that the salary predicted by our model might be off by 5410 (higher or lower).\n",
    "Model predicts with an accuracy of 89%."
   ]
  },
  {
   "cell_type": "code",
   "execution_count": 47,
   "id": "47aa1581",
   "metadata": {},
   "outputs": [
    {
     "data": {
      "image/png": "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\n",
      "text/plain": [
       "<Figure size 432x288 with 1 Axes>"
      ]
     },
     "metadata": {
      "needs_background": "light"
     },
     "output_type": "display_data"
    }
   ],
   "source": [
    "plt.scatter(X,y,color='green',label='Scatter Plot')\n",
    "plt.plot(X_test,y_preds,color='red',linewidth=2,label=\"Regression Line\")\n",
    "plt.title(\"Relationship between salary and years of experience\")\n",
    "plt.xlabel(\"Years of Experience\")\n",
    "plt.ylabel(\"Salary\")\n",
    "plt.legend(loc=2)\n",
    "plt.show()"
   ]
  },
  {
   "cell_type": "code",
   "execution_count": 55,
   "id": "0df5bf88",
   "metadata": {},
   "outputs": [
    {
     "data": {
      "text/plain": [
       "<matplotlib.collections.LineCollection at 0x1dc5e1909a0>"
      ]
     },
     "execution_count": 55,
     "metadata": {},
     "output_type": "execute_result"
    },
    {
     "data": {
      "image/png": "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\n",
      "text/plain": [
       "<Figure size 432x288 with 1 Axes>"
      ]
     },
     "metadata": {
      "needs_background": "light"
     },
     "output_type": "display_data"
    }
   ],
   "source": [
    "plt.scatter(lm.predict(X_train),lm.predict(X_train)-y_train,color='blue')\n",
    "plt.scatter(lm.predict(X_test),lm.predict(X_test)-y_test,color='red')\n",
    "plt.hlines(xmin=0,xmax=120000,y=0,color='yellow',linewidth=2)"
   ]
  },
  {
   "cell_type": "code",
   "execution_count": 57,
   "id": "8ba92355",
   "metadata": {},
   "outputs": [
    {
     "data": {
      "text/plain": [
       "(0.9628689857368566, 0.8992353174313428)"
      ]
     },
     "execution_count": 57,
     "metadata": {},
     "output_type": "execute_result"
    }
   ],
   "source": [
    "lm.score(X_train,y_train),lm.score(X_test,y_test)"
   ]
  },
 ],
 "metadata": {
  "kernelspec": {
   "display_name": "Python 3 (ipykernel)",
   "language": "python",
   "name": "python3"
  },
  "language_info": {
   "codemirror_mode": {
    "name": "ipython",
    "version": 3
   },
   "file_extension": ".py",
   "mimetype": "text/x-python",
   "name": "python",
   "nbconvert_exporter": "python",
   "pygments_lexer": "ipython3",
   "version": "3.9.12"
  }
 },
 "nbformat": 4,
 "nbformat_minor": 5
}
